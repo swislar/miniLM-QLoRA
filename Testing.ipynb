{
 "cells": [
  {
   "cell_type": "code",
   "execution_count": 1,
   "id": "e173037a",
   "metadata": {},
   "outputs": [
    {
     "name": "stderr",
     "output_type": "stream",
     "text": [
      "/Users/swislar/.pyenv/versions/3.13_lora/lib/python3.13/site-packages/tqdm/auto.py:21: TqdmWarning: IProgress not found. Please update jupyter and ipywidgets. See https://ipywidgets.readthedocs.io/en/stable/user_install.html\n",
      "  from .autonotebook import tqdm as notebook_tqdm\n",
      "Loading checkpoint shards: 100%|██████████| 2/2 [00:00<00:00, 42.83it/s]\n"
     ]
    },
    {
     "name": "stdout",
     "output_type": "stream",
     "text": [
      "Model Initialized.\n"
     ]
    }
   ],
   "source": [
    "from Models.Qwen1_8 import Qwen1_8\n",
    "\n",
    "qwen = Qwen1_8()"
   ]
  },
  {
   "cell_type": "code",
   "execution_count": 2,
   "id": "649dd560",
   "metadata": {},
   "outputs": [],
   "source": [
    "from Datasets.Dataset import mental_health_counseling\n",
    "\n",
    "ds = mental_health_counseling()"
   ]
  },
  {
   "cell_type": "code",
   "execution_count": 13,
   "id": "228f4c5f",
   "metadata": {},
   "outputs": [
    {
     "name": "stdout",
     "output_type": "stream",
     "text": [
      "Average token length: 303.2944191343964\n"
     ]
    }
   ],
   "source": [
    "res = []\n",
    "for i in ds[\"Pair\"]:\n",
    "    res.append(len(qwen.tokenizer.tokenize(i)))\n",
    "\n",
    "print(f'Average token length: {sum(res)/len(res)}')"
   ]
  }
 ],
 "metadata": {
  "kernelspec": {
   "display_name": "3.13_lora",
   "language": "python",
   "name": "python3"
  },
  "language_info": {
   "codemirror_mode": {
    "name": "ipython",
    "version": 3
   },
   "file_extension": ".py",
   "mimetype": "text/x-python",
   "name": "python",
   "nbconvert_exporter": "python",
   "pygments_lexer": "ipython3",
   "version": "3.13.6"
  }
 },
 "nbformat": 4,
 "nbformat_minor": 5
}
